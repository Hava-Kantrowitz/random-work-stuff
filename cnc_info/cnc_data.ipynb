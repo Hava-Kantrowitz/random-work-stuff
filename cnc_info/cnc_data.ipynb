{
 "cells": [
  {
   "cell_type": "code",
   "execution_count": 33,
   "metadata": {},
   "outputs": [],
   "source": [
    "import pandas as pd "
   ]
  },
  {
   "cell_type": "code",
   "execution_count": 34,
   "metadata": {},
   "outputs": [],
   "source": [
    "df = pd.read_json(\"/scratch/hsk4p/fireye-months/dec/fireye/all-days\", lines=True)"
   ]
  },
  {
   "cell_type": "code",
   "execution_count": 35,
   "metadata": {},
   "outputs": [],
   "source": [
    "cncs = df.cncHost.tolist()"
   ]
  },
  {
   "cell_type": "code",
   "execution_count": 36,
   "metadata": {},
   "outputs": [],
   "source": [
    "def countRepeatsList(ipsList):\n",
    "    dests = {}\n",
    "    for i in ipsList:\n",
    "        if i in dests:\n",
    "            orig_dest = dests[i]\n",
    "            dests[i] = orig_dest + 1\n",
    "        else:\n",
    "            dests[i] = 1\n",
    "    return dests\n"
   ]
  },
  {
   "cell_type": "code",
   "execution_count": 37,
   "metadata": {},
   "outputs": [],
   "source": [
    "cncsCount = countRepeatsList(cncs)"
   ]
  },
  {
   "cell_type": "code",
   "execution_count": 38,
   "metadata": {},
   "outputs": [],
   "source": [
    "cncList = df.cncHost.unique().tolist()"
   ]
  },
  {
   "cell_type": "code",
   "execution_count": 39,
   "metadata": {},
   "outputs": [],
   "source": [
    "requestList = df.request.unique().tolist()"
   ]
  },
  {
   "cell_type": "code",
   "execution_count": 40,
   "metadata": {},
   "outputs": [
    {
     "data": {
      "text/plain": [
       "535      111.181.69.179\n",
       "2220     221.235.233.86\n",
       "25603    221.235.235.88\n",
       "25606    221.235.235.88\n",
       "Name: src, dtype: object"
      ]
     },
     "execution_count": 40,
     "metadata": {},
     "output_type": "execute_result"
    }
   ],
   "source": [
    "df.loc[df['cncHost']=='cn.alexa.com'].src"
   ]
  },
  {
   "cell_type": "code",
   "execution_count": 41,
   "metadata": {},
   "outputs": [],
   "source": [
    "def countRepeats(ipsDict):\n",
    "    ips = {}\n",
    "    for key in ipsDict:\n",
    "        dests = {}\n",
    "        listIps = ipsDict[key]\n",
    "        for i in listIps:\n",
    "            if i in dests:\n",
    "                orig_dest = dests[i]\n",
    "                dests[i] = orig_dest + 1\n",
    "            else:\n",
    "                dests[i] = 1\n",
    "        ips[key] = dests\n",
    "    return ips\n"
   ]
  },
  {
   "cell_type": "code",
   "execution_count": 42,
   "metadata": {},
   "outputs": [],
   "source": [
    "def organizeList(countedDict):\n",
    "    zeroDict = zeroedDict(countedDict)\n",
    "    keyList = list(countedDict.keys())\n",
    "    cleanedList = []\n",
    "    for i in keyList:\n",
    "        cleanedList.append(strip_periods(i))\n",
    "    sortedList = sorted(cleanedList)\n",
    "    niceList = []\n",
    "    for j in sortedList:\n",
    "        niceList.append(add_periods(j))\n",
    "    finalList = []\n",
    "    for k in niceList:\n",
    "        # print(k)\n",
    "        finalList.append([k, zeroDict[k]])\n",
    "    return finalList\n"
   ]
  },
  {
   "cell_type": "code",
   "execution_count": 43,
   "metadata": {},
   "outputs": [],
   "source": [
    "def zeroedDict(dict):\n",
    "    zeroedDict = {}\n",
    "    for key in dict:\n",
    "        numkey_list = key.split(\".\") \n",
    "        final_ip = []\n",
    "        for x in numkey_list:\n",
    "            while len(x) < 3:\n",
    "                x = \"0\" + x\n",
    "            final_ip.append(x)\n",
    "        numkey = \"{0}.{1}.{2}.{3}\".format(final_ip[0], final_ip[1], final_ip[2], final_ip[3])\n",
    "        zeroedDict[numkey] = dict[key]\n",
    "    return zeroedDict\n"
   ]
  },
  {
   "cell_type": "code",
   "execution_count": 44,
   "metadata": {},
   "outputs": [],
   "source": [
    "def getListDF(frame):\n",
    "    justCnc = frame.cncHost.unique()\n",
    "    df_list = []\n",
    "    for i in range(0,justCnc.shape[0]):\n",
    "        val = justCnc[[i]][0]\n",
    "        df_list.append(val)\n",
    "    return df_list\n"
   ]
  },
  {
   "cell_type": "code",
   "execution_count": 45,
   "metadata": {},
   "outputs": [],
   "source": [
    "listCnc = getListDF(df)"
   ]
  },
  {
   "cell_type": "code",
   "execution_count": 46,
   "metadata": {},
   "outputs": [],
   "source": [
    "def removeFloat(aList):\n",
    "    for i in aList:\n",
    "        if isinstance(i, float):\n",
    "            aList.remove(i)\n",
    "    return aList\n"
   ]
  },
  {
   "cell_type": "code",
   "execution_count": 47,
   "metadata": {},
   "outputs": [],
   "source": [
    "cleanListCnc = removeFloat(listCnc)"
   ]
  },
  {
   "cell_type": "code",
   "execution_count": 48,
   "metadata": {},
   "outputs": [],
   "source": [
    "def getInternalVals(dframe, ip):\n",
    "    intFrame = dframe[dframe['cncHost'].str.contains(ip, na=False)]\n",
    "    return intFrame\n"
   ]
  },
  {
   "cell_type": "code",
   "execution_count": 49,
   "metadata": {},
   "outputs": [],
   "source": [
    "def getSrcFrames(frame, srcList):\n",
    "    test = frame\n",
    "    myDict = {}\n",
    "    for i in srcList:\n",
    "        myDict[i] = getInternalVals(test,i)\n",
    "    return myDict\n"
   ]
  },
  {
   "cell_type": "code",
   "execution_count": 50,
   "metadata": {},
   "outputs": [],
   "source": [
    "cncDict = getSrcFrames(df, cleanListCnc)"
   ]
  },
  {
   "cell_type": "code",
   "execution_count": 51,
   "metadata": {},
   "outputs": [],
   "source": [
    "def getDpts(dict):\n",
    "    myDict = {}\n",
    "    for key in dict:\n",
    "        myDict[key] = dict[key].src \n",
    "    for key2 in myDict:\n",
    "        myDict[key2] = myDict[key2].tolist()\n",
    "    return myDict\n"
   ]
  },
  {
   "cell_type": "code",
   "execution_count": 52,
   "metadata": {},
   "outputs": [],
   "source": [
    "cncDsts = getDpts(cncDict)"
   ]
  },
  {
   "cell_type": "code",
   "execution_count": 53,
   "metadata": {},
   "outputs": [],
   "source": [
    "def countRepeats(ipsDict):\n",
    "    ips = {}\n",
    "    for key in ipsDict:\n",
    "        dests = {}\n",
    "        listIps = ipsDict[key]\n",
    "        for i in listIps:\n",
    "            if i in dests:\n",
    "                orig_dest = dests[i]\n",
    "                dests[i] = orig_dest + 1\n",
    "            else:\n",
    "                dests[i] = 1\n",
    "        ips[key] = dests\n",
    "    return ips\n"
   ]
  },
  {
   "cell_type": "code",
   "execution_count": 54,
   "metadata": {},
   "outputs": [],
   "source": [
    "finalCnc = countRepeats(cncDsts)"
   ]
  },
  {
   "cell_type": "code",
   "execution_count": 55,
   "metadata": {},
   "outputs": [],
   "source": [
    "def organizeList(countedDict):\n",
    "    keyList = list(countedDict.keys())\n",
    "    cleanedList = []\n",
    "    for i in keyList:\n",
    "        cleanedList.append(i)\n",
    "    sortedList = sorted(cleanedList)\n",
    "    finalList = []\n",
    "    for k in sortedList:\n",
    "        # print(k)\n",
    "        finalList.append([k, countedDict[k]])\n",
    "    return finalList\n"
   ]
  },
  {
   "cell_type": "code",
   "execution_count": 56,
   "metadata": {},
   "outputs": [],
   "source": [
    "cncSrcs = organizeList(finalCnc)"
   ]
  },
  {
   "cell_type": "code",
   "execution_count": 57,
   "metadata": {},
   "outputs": [],
   "source": [
    "jandf = pd.read_json(\"/scratch/hsk4p/fireye-months/jan/fireye/jan_all_days\", lines=True)"
   ]
  },
  {
   "cell_type": "code",
   "execution_count": 58,
   "metadata": {},
   "outputs": [],
   "source": [
    "jancncs = jandf.cncHost.tolist()"
   ]
  },
  {
   "cell_type": "code",
   "execution_count": 59,
   "metadata": {},
   "outputs": [],
   "source": [
    "jancncList = jandf.cncHost.unique().tolist()"
   ]
  },
  {
   "cell_type": "code",
   "execution_count": 60,
   "metadata": {},
   "outputs": [],
   "source": [
    "janlistCnc = getListDF(jandf)"
   ]
  },
  {
   "cell_type": "code",
   "execution_count": 61,
   "metadata": {},
   "outputs": [],
   "source": [
    "jancleanListCnc = removeFloat(janlistCnc)"
   ]
  },
  {
   "cell_type": "code",
   "execution_count": 62,
   "metadata": {},
   "outputs": [],
   "source": [
    "jancncDict = getSrcFrames(jandf, jancleanListCnc)"
   ]
  },
  {
   "cell_type": "code",
   "execution_count": 63,
   "metadata": {},
   "outputs": [],
   "source": [
    "jancncDsts = getDpts(jancncDict)"
   ]
  },
  {
   "cell_type": "code",
   "execution_count": 64,
   "metadata": {},
   "outputs": [],
   "source": [
    "janfinalCnc = countRepeats(jancncDsts)"
   ]
  },
  {
   "cell_type": "code",
   "execution_count": 65,
   "metadata": {},
   "outputs": [],
   "source": [
    "febdf = pd.read_json(\"/scratch/hsk4p/fireye-months/feb/fireye/feb_all_days\", lines=True)"
   ]
  },
  {
   "cell_type": "code",
   "execution_count": 66,
   "metadata": {},
   "outputs": [],
   "source": [
    "febcncList = febdf.cncHost.unique().tolist()\n",
    "feblistCnc = getListDF(febdf)\n",
    "febcleanListCnc = removeFloat(feblistCnc)\n",
    "febcncDict = getSrcFrames(febdf, febcleanListCnc)\n",
    "febcncDsts = getDpts(febcncDict)\n",
    "febfinalCnc = countRepeats(febcncDsts)"
   ]
  },
  {
   "cell_type": "code",
   "execution_count": 67,
   "metadata": {},
   "outputs": [],
   "source": [
    "mardf = pd.read_json(\"/scratch/hsk4p/fireye-months/mar/fireye/mar_all_days\", lines=True)"
   ]
  },
  {
   "cell_type": "code",
   "execution_count": 68,
   "metadata": {},
   "outputs": [],
   "source": [
    "marcncList = mardf.cncHost.unique().tolist()\n",
    "marlistCnc = getListDF(mardf)\n",
    "marcleanListCnc = removeFloat(marlistCnc)\n",
    "marcncDict = getSrcFrames(mardf, marcleanListCnc)\n",
    "marcncDsts = getDpts(marcncDict)\n",
    "marfinalCnc = countRepeats(marcncDsts)"
   ]
  },
  {
   "cell_type": "code",
   "execution_count": 69,
   "metadata": {},
   "outputs": [],
   "source": [
    "aprdf = pd.read_json(\"/scratch/hsk4p/fireye-months/apr/fireye/apr_all_days\", lines=True)"
   ]
  },
  {
   "cell_type": "code",
   "execution_count": 70,
   "metadata": {},
   "outputs": [],
   "source": [
    "aprcncList = aprdf.cncHost.unique().tolist()\n",
    "aprlistCnc = getListDF(aprdf)\n",
    "aprcleanListCnc = removeFloat(aprlistCnc)\n",
    "aprcncDict = getSrcFrames(aprdf, aprcleanListCnc)\n",
    "aprcncDsts = getDpts(aprcncDict)\n",
    "aprfinalCnc = countRepeats(aprcncDsts)"
   ]
  },
  {
   "cell_type": "code",
   "execution_count": 71,
   "metadata": {},
   "outputs": [],
   "source": [
    "maydf = pd.read_json(\"/scratch/hsk4p/fireye-months/may/fireye/may_all_days\", lines=True)"
   ]
  },
  {
   "cell_type": "code",
   "execution_count": 72,
   "metadata": {},
   "outputs": [],
   "source": [
    "maycncList = maydf.cncHost.unique().tolist()\n",
    "maylistCnc = getListDF(maydf)\n",
    "maycleanListCnc = removeFloat(maylistCnc)\n",
    "maycncDict = getSrcFrames(maydf, maycleanListCnc)\n",
    "maycncDsts = getDpts(maycncDict)\n",
    "mayfinalCnc = countRepeats(maycncDsts)"
   ]
  },
  {
   "cell_type": "code",
   "execution_count": 73,
   "metadata": {},
   "outputs": [],
   "source": [
    "jundf = pd.read_json(\"/scratch/hsk4p/fireye-months/jun/fireye/jun_all_days\", lines=True)"
   ]
  },
  {
   "cell_type": "code",
   "execution_count": 74,
   "metadata": {},
   "outputs": [],
   "source": [
    "juncncList = jundf.cncHost.unique().tolist()\n",
    "junlistCnc = getListDF(jundf)\n",
    "juncleanListCnc = removeFloat(junlistCnc)\n",
    "juncncDict = getSrcFrames(jundf, juncleanListCnc)\n",
    "juncncDsts = getDpts(juncncDict)\n",
    "junfinalCnc = countRepeats(juncncDsts)"
   ]
  },
  {
   "cell_type": "code",
   "execution_count": 75,
   "metadata": {},
   "outputs": [],
   "source": [
    "jancncs = jandf.cncHost.tolist()"
   ]
  },
  {
   "cell_type": "code",
   "execution_count": 76,
   "metadata": {},
   "outputs": [],
   "source": [
    "jancncsCount = countRepeatsList(jancncs)"
   ]
  },
  {
   "cell_type": "code",
   "execution_count": 77,
   "metadata": {},
   "outputs": [],
   "source": [
    "febcncs = febdf.cncHost.tolist()\n",
    "febcncsCount = countRepeatsList(febcncs)"
   ]
  },
  {
   "cell_type": "code",
   "execution_count": 78,
   "metadata": {},
   "outputs": [],
   "source": [
    "marcncs = mardf.cncHost.tolist()\n",
    "marcncsCount = countRepeatsList(marcncs)"
   ]
  },
  {
   "cell_type": "code",
   "execution_count": 79,
   "metadata": {},
   "outputs": [],
   "source": [
    "aprcncs = aprdf.cncHost.tolist()\n",
    "aprcncsCount = countRepeatsList(aprcncs)"
   ]
  },
  {
   "cell_type": "code",
   "execution_count": 80,
   "metadata": {},
   "outputs": [],
   "source": [
    "maycncs = maydf.cncHost.tolist()\n",
    "maycncsCount = countRepeatsList(maycncs)"
   ]
  },
  {
   "cell_type": "code",
   "execution_count": 81,
   "metadata": {},
   "outputs": [],
   "source": [
    "juncncs = jundf.cncHost.tolist()\n",
    "juncncsCount = countRepeatsList(juncncs)"
   ]
  },
  {
   "cell_type": "code",
   "execution_count": 82,
   "metadata": {},
   "outputs": [],
   "source": [
    "def countOccurences(months):\n",
    "    for month in months:\n",
    "        for val in month:\n",
    "            print (val)"
   ]
  },
  {
   "cell_type": "code",
   "execution_count": 83,
   "metadata": {},
   "outputs": [
    {
     "ename": "TypeError",
     "evalue": "countOccurences() takes 1 positional argument but 3 were given",
     "output_type": "error",
     "traceback": [
      "\u001b[0;31m---------------------------------------------------------------------------\u001b[0m",
      "\u001b[0;31mTypeError\u001b[0m                                 Traceback (most recent call last)",
      "\u001b[0;32m<ipython-input-83-8918e5ec555a>\u001b[0m in \u001b[0;36m<module>\u001b[0;34m()\u001b[0m\n\u001b[0;32m----> 1\u001b[0;31m \u001b[0mcountOccurences\u001b[0m\u001b[0;34m(\u001b[0m\u001b[0mjuncncs\u001b[0m\u001b[0;34m,\u001b[0m \u001b[0mmaycncs\u001b[0m\u001b[0;34m,\u001b[0m \u001b[0maprcncs\u001b[0m\u001b[0;34m)\u001b[0m\u001b[0;34m\u001b[0m\u001b[0m\n\u001b[0m",
      "\u001b[0;31mTypeError\u001b[0m: countOccurences() takes 1 positional argument but 3 were given"
     ]
    }
   ],
   "source": [
    "countOccurences(juncncs, maycncs, aprcncs)"
   ]
  },
  {
   "cell_type": "code",
   "execution_count": null,
   "metadata": {},
   "outputs": [],
   "source": []
  }
 ],
 "metadata": {
  "kernelspec": {
   "display_name": "Python 3.6",
   "language": "python",
   "name": "python36"
  },
  "language_info": {
   "codemirror_mode": {
    "name": "ipython",
    "version": 3
   },
   "file_extension": ".py",
   "mimetype": "text/x-python",
   "name": "python",
   "nbconvert_exporter": "python",
   "pygments_lexer": "ipython3",
   "version": "3.6.6"
  }
 },
 "nbformat": 4,
 "nbformat_minor": 4
}
